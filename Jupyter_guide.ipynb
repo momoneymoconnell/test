{
 "cells": [
  {
   "cell_type": "markdown",
   "metadata": {},
   "source": [
    "# Call out boxes"
   ]
  },
  {
   "cell_type": "markdown",
   "metadata": {},
   "source": [
    "I guess this is known as an indent but it seems to sort of high light\n",
    "> You can use > to comment out/highlight like this\n",
    ">> what happens if i do this?\n",
    ">>> I guess you can keep going down the line like this\n",
    ">>>> not reall sure where this would be useful, perhaps for commenting/resolving issues\n",
    "\n",
    "<div class=\"alert alert-block alert-info\">\n",
    "<b>Info/Note/Tip</b> Alert-info.\n",
    "</div>\n",
    "\n",
    "<div class=\"alert alert-block alert-warning\">\n",
    "<b>Warning</b> Alert-warning.\n",
    "</div>\n",
    "\n",
    "<div class=\"alert alert-block alert-danger\">\n",
    "<b>Danger</b> Alert-danger.\n",
    "</div>\n",
    "\n",
    "<div class=\"alert alert-block alert-success\">\n",
    "<b>Alert success</b> Alert-success.\n",
    "</div>\n",
    "\n",
    "***"
   ]
  },
  {
   "cell_type": "markdown",
   "metadata": {},
   "source": [
    "# Shapes"
   ]
  },
  {
   "cell_type": "markdown",
   "metadata": {},
   "source": [
    "You can use <b> &#reference_number </b> with a reference number to include geometric shapes from https://www.w3schools.com/charsets/ref_utf_geometric.asp\n",
    "\n",
    "***"
   ]
  },
  {
   "cell_type": "markdown",
   "metadata": {},
   "source": [
    "# Links"
   ]
  },
  {
   "cell_type": "markdown",
   "metadata": {},
   "source": [
    "Link to a URL like this (see [Confluence](https://confluence/display/BTVFRDMM/SQL+Server))\n",
    "\n",
    "Link to another section in the notebook like this [Shapes](#Shapes)\n",
    "-  If there are spaces, you can do it with hyphens [Call out boxes](#Call-out-boxes)\n",
    "\n",
    "Link to a file like this __[here](/N:/Privat/Desktop/Test/Exploring_DBs/src/sql.py)__\n",
    "(the file typically has to be in the same folder as the notebook)\n",
    "\n",
    "***"
   ]
  },
  {
   "cell_type": "markdown",
   "metadata": {},
   "source": [
    "# Highlights"
   ]
  },
  {
   "cell_type": "markdown",
   "metadata": {},
   "source": [
    "`highlight a word or section like this`\n",
    "\n",
    "__Bold like this__ or <b> like this </b> or **like this**\n",
    "\n",
    "*italicize like this* or _like this_\n",
    "\n",
    "***"
   ]
  },
  {
   "cell_type": "markdown",
   "metadata": {},
   "source": [
    "# Table"
   ]
  },
  {
   "cell_type": "markdown",
   "metadata": {},
   "source": [
    "Make a table like this\n",
    "\n",
    "|Col1 - left align |Col2 - right align|Col3 - center|\n",
    "|:-|:-:|-:|\n",
    "|something|something|something|\n",
    "|something|something|something|\n",
    "\n",
    "***"
   ]
  },
  {
   "cell_type": "markdown",
   "metadata": {},
   "source": [
    "# Bullets"
   ]
  },
  {
   "cell_type": "markdown",
   "metadata": {},
   "source": [
    "- bullets are done like this\n",
    "  - i think at least two spaces\n",
    "    - between each line\n",
    "\n",
    "1. or numbers like this\n",
    "    1. fff\n",
    "2. ffff "
   ]
  }
 ],
 "metadata": {
  "language_info": {
   "name": "python"
  }
 },
 "nbformat": 4,
 "nbformat_minor": 2
}
